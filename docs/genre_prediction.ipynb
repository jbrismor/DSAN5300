{
 "cells": [
  {
   "cell_type": "markdown",
   "metadata": {},
   "source": [
    "---\n",
    "title: \"Modeling for Predicting Music Genre\"\n",
    "subtitle: \"DSAN 5300 Final Project\"\n",
    "authors: [\"Jorge Bris Moreno\", \"William McGloin\", \"Kangheng Liu\", \"Isfar Baset\"]\n",
    "date: last-modified\n",
    "date-format: long\n",
    "format:\n",
    "  html:\n",
    "    self-contained: true\n",
    "    toc: true\n",
    "    code-overflow: wrap\n",
    "    code-fold: true\n",
    "---"
   ]
  },
  {
   "cell_type": "markdown",
   "metadata": {},
   "source": [
    "## Load and Display Data"
   ]
  },
  {
   "cell_type": "code",
   "execution_count": 2,
   "metadata": {},
   "outputs": [
    {
     "name": "stdout",
     "output_type": "stream",
     "text": [
      "<class 'pandas.core.frame.DataFrame'>\n",
      "RangeIndex: 397 entries, 0 to 396\n",
      "Data columns (total 16 columns):\n",
      " #   Column            Non-Null Count  Dtype  \n",
      "---  ------            --------------  -----  \n",
      " 0   artist_name       397 non-null    object \n",
      " 1   artist_id         397 non-null    object \n",
      " 2   danceability      397 non-null    float64\n",
      " 3   energy            397 non-null    float64\n",
      " 4   loudness          397 non-null    float64\n",
      " 5   speechiness       397 non-null    float64\n",
      " 6   acousticness      397 non-null    float64\n",
      " 7   instrumentalness  397 non-null    float64\n",
      " 8   liveness          397 non-null    float64\n",
      " 9   valence           397 non-null    float64\n",
      " 10  tempo             397 non-null    float64\n",
      " 11  duration_ms       397 non-null    float64\n",
      " 12  key_mode          397 non-null    object \n",
      " 13  genre1            395 non-null    object \n",
      " 14  genre2            76 non-null     object \n",
      " 15  genre3            12 non-null     object \n",
      "dtypes: float64(10), object(6)\n",
      "memory usage: 49.8+ KB\n"
     ]
    },
    {
     "data": {
      "text/plain": [
       "(         artist_name               artist_id  danceability    energy  \\\n",
       " 0          Green Day  7oPftvlwr6VrsViSDV7fJY      0.435219  0.895942   \n",
       " 1  Dusty Springfield  5zaXYwewAXedKNCff45U5l      0.485341  0.498333   \n",
       " 2             Hozier  2FXC3k01G6Gw61bmprjgqS      0.448021  0.516437   \n",
       " 3    Ms. Lauryn Hill  2Mu5NfyYm8n5iTomuKAEHl      0.652385  0.493627   \n",
       " 4            Incubus  3YcBF2ttyueytpXtEzn1Za      0.508414  0.786576   \n",
       " \n",
       "     loudness  speechiness  acousticness  instrumentalness  liveness   valence  \\\n",
       " 0  -4.404705     0.071970      0.029052          0.024207  0.210100  0.658430   \n",
       " 1 -10.186623     0.043030      0.518770          0.015247  0.222696  0.565521   \n",
       " 2  -7.487792     0.046327      0.384334          0.048719  0.136029  0.339523   \n",
       " 3 -12.291385     0.302931      0.270838          0.000417  0.258950  0.610846   \n",
       " 4  -6.192253     0.057951      0.080398          0.076196  0.181052  0.432140   \n",
       " \n",
       "         tempo    duration_ms  key_mode genre1 genre2 genre3  \n",
       " 0  140.041634  189080.946429   D major   rock    NaN    NaN  \n",
       " 1  116.199674  195254.239130   D major   jazz    NaN    NaN  \n",
       " 2  116.836062  241630.729167   G major   rock    NaN    NaN  \n",
       " 3  102.295308  281465.692308  C# major   soul    NaN    NaN  \n",
       " 4  134.341747  245848.595960   A major   funk    NaN    NaN  ,\n",
       "        artist_name               artist_id  danceability      energy  \\\n",
       " count          397                     397    397.000000  397.000000   \n",
       " unique         397                     397           NaN         NaN   \n",
       " top      Green Day  7oPftvlwr6VrsViSDV7fJY           NaN         NaN   \n",
       " freq             1                       1           NaN         NaN   \n",
       " mean           NaN                     NaN      0.613777    0.617468   \n",
       " std            NaN                     NaN      0.105448    0.142310   \n",
       " min            NaN                     NaN      0.165000    0.198604   \n",
       " 25%            NaN                     NaN      0.537679    0.536500   \n",
       " 50%            NaN                     NaN      0.610657    0.636911   \n",
       " 75%            NaN                     NaN      0.697339    0.708015   \n",
       " max            NaN                     NaN      0.883167    0.982000   \n",
       " \n",
       "           loudness  speechiness  acousticness  instrumentalness    liveness  \\\n",
       " count   397.000000   397.000000    397.000000      3.970000e+02  397.000000   \n",
       " unique         NaN          NaN           NaN               NaN         NaN   \n",
       " top            NaN          NaN           NaN               NaN         NaN   \n",
       " freq           NaN          NaN           NaN               NaN         NaN   \n",
       " mean     -7.806939     0.108260      0.282880      8.908232e-02    0.191846   \n",
       " std       2.734404     0.074844      0.197011      1.505073e-01    0.043765   \n",
       " min     -18.187551     0.027747      0.016700      1.054545e-07    0.073100   \n",
       " 25%      -9.222016     0.053978      0.137194      1.607910e-03    0.160339   \n",
       " 50%      -7.040356     0.079824      0.237738      2.230558e-02    0.187478   \n",
       " 75%      -5.838236     0.138135      0.379125      9.919223e-02    0.214812   \n",
       " max      -3.244294     0.374818      0.896404      7.880125e-01    0.409325   \n",
       " \n",
       "            valence       tempo    duration_ms  key_mode   genre1 genre2 genre3  \n",
       " count   397.000000  397.000000     397.000000       397      395     76     12  \n",
       " unique         NaN         NaN            NaN        24       10      7      2  \n",
       " top            NaN         NaN            NaN  C# major  country    rap    rap  \n",
       " freq           NaN         NaN            NaN        95       50     27     11  \n",
       " mean      0.491707  120.305263  217273.158275       NaN      NaN    NaN    NaN  \n",
       " std       0.124706    8.937587   41730.723798       NaN      NaN    NaN    NaN  \n",
       " min       0.159005   57.020000  140542.791367       NaN      NaN    NaN    NaN  \n",
       " 25%       0.408117  114.773882  193229.640316       NaN      NaN    NaN    NaN  \n",
       " 50%       0.495250  120.376964  211802.239726       NaN      NaN    NaN    NaN  \n",
       " 75%       0.578346  125.404339  232287.419355       NaN      NaN    NaN    NaN  \n",
       " max       0.817903  141.185910  484390.555263       NaN      NaN    NaN    NaN  ,\n",
       " None)"
      ]
     },
     "execution_count": 2,
     "metadata": {},
     "output_type": "execute_result"
    }
   ],
   "source": [
    "import pandas as pd\n",
    "\n",
    "# Load the dataset\n",
    "file_path = '../data/clean_data/artists.csv'\n",
    "data = pd.read_csv(file_path)\n",
    "\n",
    "# Display the first few rows and summary statistics of the dataset\n",
    "data.head(), data.describe(include='all'), data.info()"
   ]
  },
  {
   "cell_type": "markdown",
   "metadata": {},
   "source": [
    "## Preprocessing Steps"
   ]
  },
  {
   "cell_type": "code",
   "execution_count": 3,
   "metadata": {},
   "outputs": [
    {
     "name": "stdout",
     "output_type": "stream",
     "text": [
      "<class 'pandas.core.frame.DataFrame'>\n",
      "Int64Index: 395 entries, 0 to 396\n",
      "Data columns (total 37 columns):\n",
      " #   Column             Non-Null Count  Dtype  \n",
      "---  ------             --------------  -----  \n",
      " 0   artist_name        395 non-null    object \n",
      " 1   artist_id          395 non-null    object \n",
      " 2   danceability       395 non-null    float64\n",
      " 3   energy             395 non-null    float64\n",
      " 4   loudness           395 non-null    float64\n",
      " 5   speechiness        395 non-null    float64\n",
      " 6   acousticness       395 non-null    float64\n",
      " 7   instrumentalness   395 non-null    float64\n",
      " 8   liveness           395 non-null    float64\n",
      " 9   valence            395 non-null    float64\n",
      " 10  tempo              395 non-null    float64\n",
      " 11  duration_ms        395 non-null    float64\n",
      " 12  genre1             395 non-null    object \n",
      " 13  key_mode_A major   395 non-null    uint8  \n",
      " 14  key_mode_A minor   395 non-null    uint8  \n",
      " 15  key_mode_A# major  395 non-null    uint8  \n",
      " 16  key_mode_A# minor  395 non-null    uint8  \n",
      " 17  key_mode_B major   395 non-null    uint8  \n",
      " 18  key_mode_B minor   395 non-null    uint8  \n",
      " 19  key_mode_C major   395 non-null    uint8  \n",
      " 20  key_mode_C minor   395 non-null    uint8  \n",
      " 21  key_mode_C# major  395 non-null    uint8  \n",
      " 22  key_mode_C# minor  395 non-null    uint8  \n",
      " 23  key_mode_D major   395 non-null    uint8  \n",
      " 24  key_mode_D minor   395 non-null    uint8  \n",
      " 25  key_mode_D# major  395 non-null    uint8  \n",
      " 26  key_mode_D# minor  395 non-null    uint8  \n",
      " 27  key_mode_E major   395 non-null    uint8  \n",
      " 28  key_mode_E minor   395 non-null    uint8  \n",
      " 29  key_mode_F major   395 non-null    uint8  \n",
      " 30  key_mode_F minor   395 non-null    uint8  \n",
      " 31  key_mode_F# major  395 non-null    uint8  \n",
      " 32  key_mode_F# minor  395 non-null    uint8  \n",
      " 33  key_mode_G major   395 non-null    uint8  \n",
      " 34  key_mode_G minor   395 non-null    uint8  \n",
      " 35  key_mode_G# major  395 non-null    uint8  \n",
      " 36  key_mode_G# minor  395 non-null    uint8  \n",
      "dtypes: float64(10), object(3), uint8(24)\n",
      "memory usage: 52.5+ KB\n"
     ]
    },
    {
     "data": {
      "text/plain": [
       "(         artist_name               artist_id  danceability    energy  \\\n",
       " 0          Green Day  7oPftvlwr6VrsViSDV7fJY      0.435219  0.895942   \n",
       " 1  Dusty Springfield  5zaXYwewAXedKNCff45U5l      0.485341  0.498333   \n",
       " 2             Hozier  2FXC3k01G6Gw61bmprjgqS      0.448021  0.516437   \n",
       " 3    Ms. Lauryn Hill  2Mu5NfyYm8n5iTomuKAEHl      0.652385  0.493627   \n",
       " 4            Incubus  3YcBF2ttyueytpXtEzn1Za      0.508414  0.786576   \n",
       " \n",
       "     loudness  speechiness  acousticness  instrumentalness  liveness   valence  \\\n",
       " 0  -4.404705     0.071970      0.029052          0.024207  0.210100  0.658430   \n",
       " 1 -10.186623     0.043030      0.518770          0.015247  0.222696  0.565521   \n",
       " 2  -7.487792     0.046327      0.384334          0.048719  0.136029  0.339523   \n",
       " 3 -12.291385     0.302931      0.270838          0.000417  0.258950  0.610846   \n",
       " 4  -6.192253     0.057951      0.080398          0.076196  0.181052  0.432140   \n",
       " \n",
       "    ...  key_mode_E major  key_mode_E minor key_mode_F major  key_mode_F minor  \\\n",
       " 0  ...                 0                 0                0                 0   \n",
       " 1  ...                 0                 0                0                 0   \n",
       " 2  ...                 0                 0                0                 0   \n",
       " 3  ...                 0                 0                0                 0   \n",
       " 4  ...                 0                 0                0                 0   \n",
       " \n",
       "    key_mode_F# major  key_mode_F# minor  key_mode_G major  key_mode_G minor  \\\n",
       " 0                  0                  0                 0                 0   \n",
       " 1                  0                  0                 0                 0   \n",
       " 2                  0                  0                 1                 0   \n",
       " 3                  0                  0                 0                 0   \n",
       " 4                  0                  0                 0                 0   \n",
       " \n",
       "    key_mode_G# major  key_mode_G# minor  \n",
       " 0                  0                  0  \n",
       " 1                  0                  0  \n",
       " 2                  0                  0  \n",
       " 3                  0                  0  \n",
       " 4                  0                  0  \n",
       " \n",
       " [5 rows x 37 columns],\n",
       " None)"
      ]
     },
     "execution_count": 3,
     "metadata": {},
     "output_type": "execute_result"
    }
   ],
   "source": [
    "# Drop genre2 and genre3 columns\n",
    "data_cleaned = data.drop(['genre2', 'genre3'], axis=1)\n",
    "\n",
    "# Drop rows with missing 'genre1'\n",
    "data_cleaned = data_cleaned.dropna(subset=['genre1'])\n",
    "\n",
    "# Encoding categorical variable 'key_mode' using one-hot encoding\n",
    "data_cleaned = pd.get_dummies(data_cleaned, columns=['key_mode'])\n",
    "\n",
    "# Check the modified dataset\n",
    "data_cleaned.head(), data_cleaned.info()"
   ]
  },
  {
   "cell_type": "markdown",
   "metadata": {},
   "source": [
    "## Split the Data: Divide the dataset into training and testing sets"
   ]
  },
  {
   "cell_type": "code",
   "execution_count": 4,
   "metadata": {},
   "outputs": [
    {
     "data": {
      "text/plain": [
       "((316, 34), (79, 34), (316,), (79,))"
      ]
     },
     "execution_count": 4,
     "metadata": {},
     "output_type": "execute_result"
    }
   ],
   "source": [
    "from sklearn.model_selection import train_test_split\n",
    "\n",
    "# Defining the features and target\n",
    "X = data_cleaned.drop(['artist_name', 'artist_id', 'genre1'], axis=1)\n",
    "y = data_cleaned['genre1']\n",
    "\n",
    "# Splitting the dataset into the training set and test set\n",
    "X_train, X_test, y_train, y_test = train_test_split(X, y, test_size=0.2, random_state=42)\n",
    "\n",
    "# Checking the shapes of the splits\n",
    "X_train.shape, X_test.shape, y_train.shape, y_test.shape"
   ]
  },
  {
   "cell_type": "markdown",
   "metadata": {},
   "source": [
    "## Try Different Classification Methods"
   ]
  },
  {
   "cell_type": "markdown",
   "metadata": {},
   "source": [
    "### Logistic Regression"
   ]
  },
  {
   "cell_type": "code",
   "execution_count": 11,
   "metadata": {},
   "outputs": [
    {
     "name": "stdout",
     "output_type": "stream",
     "text": [
      "Accuracy of the model: 0.09\n",
      "\n",
      "Classification Report:\n",
      "              precision    recall  f1-score   support\n",
      "\n",
      "     country       0.00      0.00      0.00        17\n",
      "         edm       0.00      0.00      0.00         7\n",
      "        funk       0.06      0.43      0.10         7\n",
      "     hip hop       0.00      0.00      0.00         8\n",
      "        jazz       0.15      0.44      0.23         9\n",
      "       latin       0.00      0.00      0.00         9\n",
      "         pop       0.00      0.00      0.00         6\n",
      "        rock       0.00      0.00      0.00         8\n",
      "        soul       0.00      0.00      0.00         8\n",
      "\n",
      "    accuracy                           0.09        79\n",
      "   macro avg       0.02      0.10      0.04        79\n",
      "weighted avg       0.02      0.09      0.03        79\n",
      "\n"
     ]
    },
    {
     "name": "stderr",
     "output_type": "stream",
     "text": [
      "/Library/Frameworks/Python.framework/Versions/3.11/lib/python3.11/site-packages/sklearn/metrics/_classification.py:1471: UndefinedMetricWarning: Precision and F-score are ill-defined and being set to 0.0 in labels with no predicted samples. Use `zero_division` parameter to control this behavior.\n",
      "  _warn_prf(average, modifier, msg_start, len(result))\n",
      "/Library/Frameworks/Python.framework/Versions/3.11/lib/python3.11/site-packages/sklearn/metrics/_classification.py:1471: UndefinedMetricWarning: Precision and F-score are ill-defined and being set to 0.0 in labels with no predicted samples. Use `zero_division` parameter to control this behavior.\n",
      "  _warn_prf(average, modifier, msg_start, len(result))\n",
      "/Library/Frameworks/Python.framework/Versions/3.11/lib/python3.11/site-packages/sklearn/metrics/_classification.py:1471: UndefinedMetricWarning: Precision and F-score are ill-defined and being set to 0.0 in labels with no predicted samples. Use `zero_division` parameter to control this behavior.\n",
      "  _warn_prf(average, modifier, msg_start, len(result))\n"
     ]
    }
   ],
   "source": [
    "from sklearn.linear_model import LogisticRegression\n",
    "from sklearn.metrics import accuracy_score, classification_report\n",
    "\n",
    "# Create a Logistic Regression classifier\n",
    "log_reg_classifier = LogisticRegression(max_iter=1000, random_state=42, multi_class='ovr')\n",
    "\n",
    "# Train the classifier\n",
    "log_reg_classifier.fit(X_train, y_train)\n",
    "\n",
    "# Predicting the Test set results\n",
    "y_pred_lr = log_reg_classifier.predict(X_test)\n",
    "\n",
    "# Evaluate accuracy\n",
    "accuracy_lr = accuracy_score(y_test, y_pred_lr)\n",
    "report_lr = classification_report(y_test, y_pred_lr)\n",
    "\n",
    "# Print accuracy\n",
    "print(f\"Accuracy of the model: {accuracy_lr:.2f}\\n\")\n",
    "\n",
    "# Print classification report\n",
    "print(\"Classification Report:\")\n",
    "print(report_lr)"
   ]
  },
  {
   "cell_type": "code",
   "execution_count": 16,
   "metadata": {},
   "outputs": [
    {
     "data": {
      "image/png": "[encoded data removed]",
      "text/plain": [
       "<Figure size 1000x700 with 2 Axes>"
      ]
     },
     "metadata": {},
     "output_type": "display_data"
    }
   ],
   "source": [
    "import matplotlib.pyplot as plt\n",
    "import seaborn as sns\n",
    "from sklearn.metrics import confusion_matrix\n",
    "\n",
    "# Compute the confusion matrix\n",
    "cm = confusion_matrix(y_test, y_pred_lr)\n",
    "\n",
    "# Create a heatmap for the confusion matrix\n",
    "plt.figure(figsize=(10, 7))\n",
    "sns.heatmap(cm, annot=True, fmt=\"d\", cmap=\"Blues\", xticklabels=sorted(set(y_test)), yticklabels=sorted(set(y_test)))\n",
    "plt.xlabel('Predicted Labels')\n",
    "plt.ylabel('True Labels')\n",
    "plt.title('Confusion Matrix for LR Classifier')\n",
    "plt.show()"
   ]
  },
  {
   "cell_type": "markdown",
   "metadata": {},
   "source": [
    "### Support Vector Machine (SVM)"
   ]
  },
  {
   "cell_type": "code",
   "execution_count": 10,
   "metadata": {},
   "outputs": [
    {
     "name": "stdout",
     "output_type": "stream",
     "text": [
      "Accuracy of the model: 0.18\n",
      "\n",
      "Classification Report:\n",
      "              precision    recall  f1-score   support\n",
      "\n",
      "     country       0.00      0.00      0.00        17\n",
      "         edm       0.13      0.57      0.21         7\n",
      "        funk       0.00      0.00      0.00         7\n",
      "     hip hop       0.00      0.00      0.00         8\n",
      "        jazz       0.26      0.89      0.40         9\n",
      "       latin       0.17      0.11      0.13         9\n",
      "         pop       0.00      0.00      0.00         6\n",
      "        rock       0.25      0.12      0.17         8\n",
      "        soul       0.00      0.00      0.00         8\n",
      "\n",
      "    accuracy                           0.18        79\n",
      "   macro avg       0.09      0.19      0.10        79\n",
      "weighted avg       0.09      0.18      0.10        79\n",
      "\n"
     ]
    },
    {
     "name": "stderr",
     "output_type": "stream",
     "text": [
      "/Library/Frameworks/Python.framework/Versions/3.11/lib/python3.11/site-packages/sklearn/metrics/_classification.py:1471: UndefinedMetricWarning: Precision and F-score are ill-defined and being set to 0.0 in labels with no predicted samples. Use `zero_division` parameter to control this behavior.\n",
      "  _warn_prf(average, modifier, msg_start, len(result))\n",
      "/Library/Frameworks/Python.framework/Versions/3.11/lib/python3.11/site-packages/sklearn/metrics/_classification.py:1471: UndefinedMetricWarning: Precision and F-score are ill-defined and being set to 0.0 in labels with no predicted samples. Use `zero_division` parameter to control this behavior.\n",
      "  _warn_prf(average, modifier, msg_start, len(result))\n",
      "/Library/Frameworks/Python.framework/Versions/3.11/lib/python3.11/site-packages/sklearn/metrics/_classification.py:1471: UndefinedMetricWarning: Precision and F-score are ill-defined and being set to 0.0 in labels with no predicted samples. Use `zero_division` parameter to control this behavior.\n",
      "  _warn_prf(average, modifier, msg_start, len(result))\n"
     ]
    }
   ],
   "source": [
    "from sklearn.svm import SVC\n",
    "\n",
    "# Create a Support Vector Classifier with a linear kernel\n",
    "svm_classifier = SVC(kernel='linear', decision_function_shape='ovr', random_state=42)\n",
    "\n",
    "# Train the classifier\n",
    "svm_classifier.fit(X_train, y_train)\n",
    "\n",
    "# Predicting the Test set results\n",
    "y_pred_svm = svm_classifier.predict(X_test)\n",
    "\n",
    "# Evaluate accuracy\n",
    "accuracy_svm = accuracy_score(y_test, y_pred_svm)\n",
    "report_svm = classification_report(y_test, y_pred_svm)\n",
    "\n",
    "# Print accuracy\n",
    "print(f\"Accuracy of the model: {accuracy_svm:.2f}\\n\")\n",
    "\n",
    "# Print classification report\n",
    "print(\"Classification Report:\")\n",
    "print(report_svm)"
   ]
  },
  {
   "cell_type": "code",
   "execution_count": 15,
   "metadata": {},
   "outputs": [
    {
     "data": {
      "image/png": "[encoded data removed]",
      "text/plain": [
       "<Figure size 1000x700 with 2 Axes>"
      ]
     },
     "metadata": {},
     "output_type": "display_data"
    }
   ],
   "source": [
    "# Compute the confusion matrix\n",
    "cm = confusion_matrix(y_test, y_pred_svm)\n",
    "\n",
    "# Create a heatmap for the confusion matrix\n",
    "plt.figure(figsize=(10, 7))\n",
    "sns.heatmap(cm, annot=True, fmt=\"d\", cmap=\"Blues\", xticklabels=sorted(set(y_test)), yticklabels=sorted(set(y_test)))\n",
    "plt.xlabel('Predicted Labels')\n",
    "plt.ylabel('True Labels')\n",
    "plt.title('Confusion Matrix for SVM Classifier')\n",
    "plt.show()"
   ]
  },
  {
   "cell_type": "markdown",
   "metadata": {},
   "source": [
    "### Linear Discriminant Analysis (LDA)"
   ]
  },
  {
   "cell_type": "code",
   "execution_count": 12,
   "metadata": {},
   "outputs": [
    {
     "name": "stdout",
     "output_type": "stream",
     "text": [
      "Accuracy of the model: 0.47\n",
      "\n",
      "Classification Report:\n",
      "              precision    recall  f1-score   support\n",
      "\n",
      "     country       0.67      0.59      0.62        17\n",
      "         edm       0.71      0.71      0.71         7\n",
      "        funk       0.00      0.00      0.00         7\n",
      "     hip hop       0.38      0.62      0.48         8\n",
      "        jazz       0.60      0.67      0.63         9\n",
      "       latin       0.56      0.56      0.56         9\n",
      "         pop       0.33      0.33      0.33         6\n",
      "         rap       0.00      0.00      0.00         0\n",
      "        rock       0.40      0.50      0.44         8\n",
      "        soul       0.00      0.00      0.00         8\n",
      "\n",
      "    accuracy                           0.47        79\n",
      "   macro avg       0.37      0.40      0.38        79\n",
      "weighted avg       0.44      0.47      0.45        79\n",
      "\n"
     ]
    },
    {
     "name": "stderr",
     "output_type": "stream",
     "text": [
      "/Library/Frameworks/Python.framework/Versions/3.11/lib/python3.11/site-packages/sklearn/metrics/_classification.py:1471: UndefinedMetricWarning: Recall and F-score are ill-defined and being set to 0.0 in labels with no true samples. Use `zero_division` parameter to control this behavior.\n",
      "  _warn_prf(average, modifier, msg_start, len(result))\n",
      "/Library/Frameworks/Python.framework/Versions/3.11/lib/python3.11/site-packages/sklearn/metrics/_classification.py:1471: UndefinedMetricWarning: Recall and F-score are ill-defined and being set to 0.0 in labels with no true samples. Use `zero_division` parameter to control this behavior.\n",
      "  _warn_prf(average, modifier, msg_start, len(result))\n",
      "/Library/Frameworks/Python.framework/Versions/3.11/lib/python3.11/site-packages/sklearn/metrics/_classification.py:1471: UndefinedMetricWarning: Recall and F-score are ill-defined and being set to 0.0 in labels with no true samples. Use `zero_division` parameter to control this behavior.\n",
      "  _warn_prf(average, modifier, msg_start, len(result))\n"
     ]
    }
   ],
   "source": [
    "from sklearn.discriminant_analysis import LinearDiscriminantAnalysis\n",
    "from sklearn.metrics import accuracy_score, classification_report\n",
    "\n",
    "# Create a Linear Discriminant Analysis classifier\n",
    "lda_classifier = LinearDiscriminantAnalysis()\n",
    "\n",
    "# Train the classifier\n",
    "lda_classifier.fit(X_train, y_train)\n",
    "\n",
    "# Predicting the Test set results\n",
    "y_pred_lda = lda_classifier.predict(X_test)\n",
    "\n",
    "# Evaluate accuracy\n",
    "accuracy_lda = accuracy_score(y_test, y_pred_lda)\n",
    "report_lda = classification_report(y_test, y_pred_lda)\n",
    "\n",
    "# Print accuracy\n",
    "print(f\"Accuracy of the model: {accuracy_lda:.2f}\\n\")\n",
    "\n",
    "# Print classification report\n",
    "print(\"Classification Report:\")\n",
    "print(report_lda)"
   ]
  },
  {
   "cell_type": "markdown",
   "metadata": {},
   "source": [
    "### Random Forest"
   ]
  },
  {
   "cell_type": "code",
   "execution_count": 9,
   "metadata": {},
   "outputs": [
    {
     "name": "stdout",
     "output_type": "stream",
     "text": [
      "Accuracy of the model: 0.57\n",
      "\n",
      "Classification Report:\n",
      "              precision    recall  f1-score   support\n",
      "\n",
      "     country       0.83      0.59      0.69        17\n",
      "         edm       0.56      0.71      0.63         7\n",
      "        funk       0.50      0.57      0.53         7\n",
      "     hip hop       0.55      0.75      0.63         8\n",
      "        jazz       0.45      0.56      0.50         9\n",
      "       latin       0.75      0.67      0.71         9\n",
      "         pop       0.33      0.17      0.22         6\n",
      "        rock       0.50      0.50      0.50         8\n",
      "        soul       0.44      0.50      0.47         8\n",
      "\n",
      "    accuracy                           0.57        79\n",
      "   macro avg       0.55      0.56      0.54        79\n",
      "weighted avg       0.59      0.57      0.57        79\n",
      "\n"
     ]
    }
   ],
   "source": [
    "from sklearn.ensemble import RandomForestClassifier\n",
    "from sklearn.metrics import accuracy_score, classification_report\n",
    "\n",
    "# Create a Random Forest classifier\n",
    "rf_classifier = RandomForestClassifier(n_estimators=100, random_state=42)\n",
    "\n",
    "# Train the classifier\n",
    "rf_classifier.fit(X_train, y_train)\n",
    "\n",
    "# Predicting the Test set results\n",
    "y_pred = rf_classifier.predict(X_test)\n",
    "\n",
    "# Evaluate accuracy\n",
    "accuracy = accuracy_score(y_test, y_pred)\n",
    "report = classification_report(y_test, y_pred)\n",
    "\n",
    "# Print accuracy\n",
    "print(f\"Accuracy of the model: {accuracy:.2f}\\n\")\n",
    "\n",
    "# Print classification report\n",
    "print(\"Classification Report:\")\n",
    "print(report)"
   ]
  },
  {
   "cell_type": "markdown",
   "metadata": {},
   "source": [
    "## Determine Feature Importance"
   ]
  },
  {
   "cell_type": "code",
   "execution_count": 8,
   "metadata": {},
   "outputs": [
    {
     "data": {
      "text/html": [
       "<div>\n",
       "<style scoped>\n",
       "    .dataframe tbody tr th:only-of-type {\n",
       "        vertical-align: middle;\n",
       "    }\n",
       "\n",
       "    .dataframe tbody tr th {\n",
       "        vertical-align: top;\n",
       "    }\n",
       "\n",
       "    .dataframe thead th {\n",
       "        text-align: right;\n",
       "    }\n",
       "</style>\n",
       "<table border=\"1\" class=\"dataframe\">\n",
       "  <thead>\n",
       "    <tr style=\"text-align: right;\">\n",
       "      <th></th>\n",
       "      <th>Feature</th>\n",
       "      <th>Importance</th>\n",
       "    </tr>\n",
       "  </thead>\n",
       "  <tbody>\n",
       "    <tr>\n",
       "      <th>3</th>\n",
       "      <td>speechiness</td>\n",
       "      <td>0.120549</td>\n",
       "    </tr>\n",
       "    <tr>\n",
       "      <th>0</th>\n",
       "      <td>danceability</td>\n",
       "      <td>0.117873</td>\n",
       "    </tr>\n",
       "    <tr>\n",
       "      <th>1</th>\n",
       "      <td>energy</td>\n",
       "      <td>0.097478</td>\n",
       "    </tr>\n",
       "    <tr>\n",
       "      <th>5</th>\n",
       "      <td>instrumentalness</td>\n",
       "      <td>0.094388</td>\n",
       "    </tr>\n",
       "    <tr>\n",
       "      <th>4</th>\n",
       "      <td>acousticness</td>\n",
       "      <td>0.091299</td>\n",
       "    </tr>\n",
       "    <tr>\n",
       "      <th>7</th>\n",
       "      <td>valence</td>\n",
       "      <td>0.088841</td>\n",
       "    </tr>\n",
       "    <tr>\n",
       "      <th>2</th>\n",
       "      <td>loudness</td>\n",
       "      <td>0.087203</td>\n",
       "    </tr>\n",
       "    <tr>\n",
       "      <th>8</th>\n",
       "      <td>tempo</td>\n",
       "      <td>0.071356</td>\n",
       "    </tr>\n",
       "    <tr>\n",
       "      <th>9</th>\n",
       "      <td>duration_ms</td>\n",
       "      <td>0.065798</td>\n",
       "    </tr>\n",
       "    <tr>\n",
       "      <th>6</th>\n",
       "      <td>liveness</td>\n",
       "      <td>0.060770</td>\n",
       "    </tr>\n",
       "  </tbody>\n",
       "</table>\n",
       "</div>"
      ],
      "text/plain": [
       "            Feature  Importance\n",
       "3       speechiness    0.120549\n",
       "0      danceability    0.117873\n",
       "1            energy    0.097478\n",
       "5  instrumentalness    0.094388\n",
       "4      acousticness    0.091299\n",
       "7           valence    0.088841\n",
       "2          loudness    0.087203\n",
       "8             tempo    0.071356\n",
       "9       duration_ms    0.065798\n",
       "6          liveness    0.060770"
      ]
     },
     "execution_count": 8,
     "metadata": {},
     "output_type": "execute_result"
    }
   ],
   "source": [
    "# Get feature importances from the model\n",
    "feature_importances = rf_classifier.feature_importances_\n",
    "\n",
    "# Create a DataFrame to view the feature names and their importance scores\n",
    "features_df = pd.DataFrame({\n",
    "    'Feature': X.columns,\n",
    "    'Importance': feature_importances\n",
    "}).sort_values(by='Importance', ascending=False)\n",
    "\n",
    "features_df.head(10)"
   ]
  }
 ],
 "metadata": {
  "kernelspec": {
   "display_name": "Python 3",
   "language": "python",
   "name": "python3"
  },
  "language_info": {
   "codemirror_mode": {
    "name": "ipython",
    "version": 3
   },
   "file_extension": ".py",
   "mimetype": "text/x-python",
   "name": "python",
   "nbconvert_exporter": "python",
   "pygments_lexer": "ipython3",
   "version": "3.11.5"
  },
  "orig_nbformat": 4
 },
 "nbformat": 4,
 "nbformat_minor": 2
}
