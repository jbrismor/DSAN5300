{
 "cells": [
  {
   "cell_type": "markdown",
   "metadata": {},
   "source": [
    "---\n",
    "title: \"What is this file?????\"\n",
    "subtitle: \"DSAN 5300 Final Project\"\n",
    "authors: [\"Jorge Bris Moreno\", \"William McGloin\", \"Kangheng Liu\", \"Isfar Baset\"]\n",
    "date: last-modified\n",
    "date-format: long\n",
    "format:\n",
    "  html:\n",
    "    self-contained: true\n",
    "    toc: true\n",
    "    code-overflow: wrap\n",
    "    code-fold: true\n",
    "---"
   ]
  },
  {
   "cell_type": "code",
   "execution_count": null,
   "metadata": {
    "vscode": {
     "languageId": "r"
    }
   },
   "outputs": [],
   "source": []
  }
 ],
 "metadata": {
  "kernelspec": {
   "display_name": "R",
   "language": "R",
   "name": "ir"
  },
  "language_info": {
   "name": "R"
  }
 },
 "nbformat": 4,
 "nbformat_minor": 2
}
